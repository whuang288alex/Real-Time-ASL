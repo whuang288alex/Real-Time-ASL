{
 "cells": [
  {
   "cell_type": "code",
   "execution_count": 1,
   "metadata": {},
   "outputs": [],
   "source": [
    "import os\n",
    "import cv2\n",
    "import pandas as pd\n",
    "import numpy as np\n",
    "import matplotlib.pyplot as plt\n",
    "\n",
    "set_names = [\"test\", \"train\"]\n",
    "letters = [chr(i) for i in range(ord('A'), ord('Z')+1)]"
   ]
  },
  {
   "cell_type": "code",
   "execution_count": 2,
   "metadata": {},
   "outputs": [],
   "source": [
    "for set_name in set_names:\n",
    "    os.makedirs(f\"./{set_name}\", exist_ok=True)\n",
    "    df = pd.read_csv(f\"./sign_mnist_{set_name}.csv\")\n",
    "    labels = df.values[:,0]\n",
    "    images = df.values[:,1:].reshape(-1, 28, 28)\n",
    "\n",
    "    for i in range(len(labels)):\n",
    "        label = letters[labels[i]]\n",
    "        image = images[i]\n",
    "        image = image.astype(np.uint8)\n",
    "        image = cv2.cvtColor(image, cv2.COLOR_GRAY2RGB)\n",
    "        os.makedirs(f\"./{set_name}/{label}\", exist_ok=True)\n",
    "        cv2.imwrite(f\"./{set_name}/{label}/{i}.jpg\", image)"
   ]
  }
 ],
 "metadata": {
  "kernelspec": {
   "display_name": "real_time_asl",
   "language": "python",
   "name": "python3"
  },
  "language_info": {
   "codemirror_mode": {
    "name": "ipython",
    "version": 3
   },
   "file_extension": ".py",
   "mimetype": "text/x-python",
   "name": "python",
   "nbconvert_exporter": "python",
   "pygments_lexer": "ipython3",
   "version": "3.9.16"
  },
  "orig_nbformat": 4
 },
 "nbformat": 4,
 "nbformat_minor": 2
}
